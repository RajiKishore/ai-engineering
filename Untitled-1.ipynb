{
 "cells": [
  {
   "cell_type": "code",
   "execution_count": null,
   "id": "e816441e",
   "metadata": {},
   "outputs": [],
   "source": [
    "dummy"
   ]
  }
 ],
 "metadata": {
  "language_info": {
   "name": "python"
  }
 },
 "nbformat": 4,
 "nbformat_minor": 5
}
